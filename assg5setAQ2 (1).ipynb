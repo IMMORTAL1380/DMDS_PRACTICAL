{
 "cells": [
  {
   "cell_type": "markdown",
   "id": "a5eb866a",
   "metadata": {},
   "source": [
    "ASSIGNMENT-05 SETAQ2\n",
    "Consider following data and apply simple Linear Regression and find out estimated coefficients bo and b1 also analyse performance of model."
   ]
  },
  {
   "cell_type": "code",
   "execution_count": 1,
   "id": "0af7d8fa",
   "metadata": {},
   "outputs": [],
   "source": [
    "#importing libraries\n",
    "import numpy as np\n",
    "import pandas as pd\n",
    "from sklearn.linear_model import LinearRegression"
   ]
  },
  {
   "cell_type": "code",
   "execution_count": 2,
   "id": "40bde143",
   "metadata": {},
   "outputs": [],
   "source": [
    "x=np.array([1,2,3,4,5,6,7,8]).reshape((-1,1))\n",
    "y=np.array([7,14,15,18,19,21,26,23])"
   ]
  },
  {
   "cell_type": "code",
   "execution_count": 3,
   "id": "45ac5261",
   "metadata": {},
   "outputs": [
    {
     "name": "stdout",
     "output_type": "stream",
     "text": [
      "[[1]\n",
      " [2]\n",
      " [3]\n",
      " [4]\n",
      " [5]\n",
      " [6]\n",
      " [7]\n",
      " [8]]\n"
     ]
    }
   ],
   "source": [
    "print(x)"
   ]
  },
  {
   "cell_type": "code",
   "execution_count": 4,
   "id": "de52f805",
   "metadata": {},
   "outputs": [
    {
     "name": "stdout",
     "output_type": "stream",
     "text": [
      "[ 7 14 15 18 19 21 26 23]\n"
     ]
    }
   ],
   "source": [
    "print(y)"
   ]
  },
  {
   "cell_type": "markdown",
   "id": "3bbcbfec",
   "metadata": {},
   "source": [
    "#Creating Regression model"
   ]
  },
  {
   "cell_type": "code",
   "execution_count": 5,
   "id": "9d2f80f2",
   "metadata": {},
   "outputs": [],
   "source": [
    "model = LinearRegression()"
   ]
  },
  {
   "cell_type": "code",
   "execution_count": 6,
   "id": "e56bedea",
   "metadata": {},
   "outputs": [
    {
     "data": {
      "text/plain": [
       "LinearRegression()"
      ]
     },
     "execution_count": 6,
     "metadata": {},
     "output_type": "execute_result"
    }
   ],
   "source": [
    "model.fit(x,y)"
   ]
  },
  {
   "cell_type": "code",
   "execution_count": 7,
   "id": "14872d11",
   "metadata": {},
   "outputs": [],
   "source": [
    "model=LinearRegression().fit(x,y)"
   ]
  },
  {
   "cell_type": "markdown",
   "id": "d31c25ce",
   "metadata": {},
   "source": [
    "#Calculating Estimated coefficiens b0 & b1"
   ]
  },
  {
   "cell_type": "code",
   "execution_count": 8,
   "id": "af575724",
   "metadata": {},
   "outputs": [
    {
     "name": "stdout",
     "output_type": "stream",
     "text": [
      "intercept(value of bo): 7.642857142857139\n",
      "slope(value of b1): [2.27380952]\n"
     ]
    }
   ],
   "source": [
    "print(\"intercept(value of bo):\",model.intercept_)\n",
    "print(\"slope(value of b1):\",model.coef_)"
   ]
  },
  {
   "cell_type": "code",
   "execution_count": null,
   "id": "70fd0e80",
   "metadata": {},
   "outputs": [],
   "source": []
  }
 ],
 "metadata": {
  "kernelspec": {
   "display_name": "Python 3 (ipykernel)",
   "language": "python",
   "name": "python3"
  },
  "language_info": {
   "codemirror_mode": {
    "name": "ipython",
    "version": 3
   },
   "file_extension": ".py",
   "mimetype": "text/x-python",
   "name": "python",
   "nbconvert_exporter": "python",
   "pygments_lexer": "ipython3",
   "version": "3.8.3"
  }
 },
 "nbformat": 4,
 "nbformat_minor": 5
}
