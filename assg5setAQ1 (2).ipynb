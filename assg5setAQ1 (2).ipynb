{
 "cells": [
  {
   "cell_type": "markdown",
   "id": "3c05b8d8",
   "metadata": {},
   "source": [
    "#ASSIGNMENT-05 SETAQ1\n",
    "consider the following observations and apply simple linear regression and find out estimated coefficientsb0 and b1."
   ]
  },
  {
   "cell_type": "code",
   "execution_count": 22,
   "id": "b9762e7f",
   "metadata": {},
   "outputs": [],
   "source": [
    "#importing libraries\n",
    "import numpy as np\n",
    "import pandas as pd\n",
    "from sklearn.linear_model import LinearRegression"
   ]
  },
  {
   "cell_type": "code",
   "execution_count": 23,
   "id": "b4385b50",
   "metadata": {},
   "outputs": [],
   "source": [
    "x=np.array([0,1,2,3,4,5,6,7,8,9,11,13]).reshape((-1,1))\n",
    "y=np.array([1,3,2,5,7,8,8,9,10,12,16,18])\n"
   ]
  },
  {
   "cell_type": "code",
   "execution_count": 24,
   "id": "bd298f74",
   "metadata": {},
   "outputs": [
    {
     "name": "stdout",
     "output_type": "stream",
     "text": [
      "[[ 0]\n",
      " [ 1]\n",
      " [ 2]\n",
      " [ 3]\n",
      " [ 4]\n",
      " [ 5]\n",
      " [ 6]\n",
      " [ 7]\n",
      " [ 8]\n",
      " [ 9]\n",
      " [11]\n",
      " [13]]\n"
     ]
    }
   ],
   "source": [
    "print(x)"
   ]
  },
  {
   "cell_type": "code",
   "execution_count": 25,
   "id": "9e7559af",
   "metadata": {},
   "outputs": [
    {
     "name": "stdout",
     "output_type": "stream",
     "text": [
      "[ 1  3  2  5  7  8  8  9 10 12 16 18]\n"
     ]
    }
   ],
   "source": [
    "print(y)"
   ]
  },
  {
   "cell_type": "markdown",
   "id": "b361092a",
   "metadata": {},
   "source": [
    "#creating regressin model & fit it with given data"
   ]
  },
  {
   "cell_type": "code",
   "execution_count": 26,
   "id": "aacfd296",
   "metadata": {},
   "outputs": [],
   "source": [
    "model = LinearRegression() "
   ]
  },
  {
   "cell_type": "code",
   "execution_count": 27,
   "id": "32cc3185",
   "metadata": {},
   "outputs": [
    {
     "data": {
      "text/plain": [
       "LinearRegression()"
      ]
     },
     "execution_count": 27,
     "metadata": {},
     "output_type": "execute_result"
    }
   ],
   "source": [
    "model.fit(x,y)"
   ]
  },
  {
   "cell_type": "code",
   "execution_count": 28,
   "id": "21fa6506",
   "metadata": {},
   "outputs": [],
   "source": [
    "model = LinearRegression().fit(x,y)"
   ]
  },
  {
   "cell_type": "markdown",
   "id": "caff0d1d",
   "metadata": {},
   "source": [
    "#calculating value of Rsquare,B0 & B1"
   ]
  },
  {
   "cell_type": "code",
   "execution_count": 29,
   "id": "8a767750",
   "metadata": {},
   "outputs": [],
   "source": [
    "r_sq= model.score(x,y)"
   ]
  },
  {
   "cell_type": "code",
   "execution_count": 30,
   "id": "1755d4bc",
   "metadata": {},
   "outputs": [
    {
     "name": "stdout",
     "output_type": "stream",
     "text": [
      "Coefficient of determination: 0.9733093932266247\n"
     ]
    }
   ],
   "source": [
    "print(\"Coefficient of determination:\",r_sq)"
   ]
  },
  {
   "cell_type": "code",
   "execution_count": 31,
   "id": "ceefe88c",
   "metadata": {},
   "outputs": [
    {
     "name": "stdout",
     "output_type": "stream",
     "text": [
      "intercept(value of bo): 0.8387096774193523\n"
     ]
    }
   ],
   "source": [
    "print(\"intercept(value of bo):\",model.intercept_)"
   ]
  },
  {
   "cell_type": "code",
   "execution_count": 32,
   "id": "8d1b3e34",
   "metadata": {},
   "outputs": [
    {
     "name": "stdout",
     "output_type": "stream",
     "text": [
      "slope(value of b1): [1.28892006]\n"
     ]
    }
   ],
   "source": [
    "print(\"slope(value of b1):\",model.coef_)"
   ]
  },
  {
   "cell_type": "code",
   "execution_count": null,
   "id": "1c14fbeb",
   "metadata": {},
   "outputs": [],
   "source": []
  }
 ],
 "metadata": {
  "kernelspec": {
   "display_name": "Python 3 (ipykernel)",
   "language": "python",
   "name": "python3"
  },
  "language_info": {
   "codemirror_mode": {
    "name": "ipython",
    "version": 3
   },
   "file_extension": ".py",
   "mimetype": "text/x-python",
   "name": "python",
   "nbconvert_exporter": "python",
   "pygments_lexer": "ipython3",
   "version": "3.8.3"
  }
 },
 "nbformat": 4,
 "nbformat_minor": 5
}
